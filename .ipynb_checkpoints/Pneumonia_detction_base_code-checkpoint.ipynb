{
 "cells": [
  {
   "cell_type": "code",
   "execution_count": null,
   "metadata": {
    "id": "ykCTz3ut94fr"
   },
   "outputs": [],
   "source": [
    "#importing libraries\n",
    "import numpy as np\n",
    "import pandas as pd\n",
    "import matplotlib.pyplot as plt \n",
    "import cv2\n",
    "import pathlib\n",
    "import os\n",
    "from PIL import Image\n",
    "import glob"
   ]
  },
  {
   "cell_type": "code",
   "execution_count": null,
   "metadata": {
    "colab": {
     "base_uri": "https://localhost:8080/"
    },
    "id": "Llw2XJd0ehj6",
    "outputId": "779698f0-ca26-4e90-c3ee-9e8bb4ecd1dc"
   },
   "outputs": [
    {
     "name": "stdout",
     "output_type": "stream",
     "text": [
      "Mounted at /content/gdrive\n"
     ]
    }
   ],
   "source": [
    "from google.colab import drive\n",
    "drive.mount('/content/gdrive')"
   ]
  },
  {
   "cell_type": "code",
   "execution_count": null,
   "metadata": {
    "id": "7kN1AzWNE4w-"
   },
   "outputs": [],
   "source": [
    "dataset_path = pathlib.Path('./dataset')"
   ]
  },
  {
   "cell_type": "code",
   "execution_count": null,
   "metadata": {
    "id": "cQUTPjdvFVsJ"
   },
   "outputs": [],
   "source": [
    "a = os.listdir(dataset_path)"
   ]
  },
  {
   "cell_type": "code",
   "execution_count": null,
   "metadata": {
    "id": "W3XBrXngedVP",
    "outputId": "19feb3b7-66bd-4935-eab7-744555cb2f29"
   },
   "outputs": [
    {
     "data": {
      "text/plain": [
       "['test', 'train', 'val']"
      ]
     },
     "execution_count": 15,
     "metadata": {},
     "output_type": "execute_result"
    }
   ],
   "source": [
    "a"
   ]
  },
  {
   "cell_type": "code",
   "execution_count": null,
   "metadata": {
    "id": "8b4Zfo0OE9Oa"
   },
   "outputs": [],
   "source": [
    "training_path = os.path.join(dataset_path,a[1])"
   ]
  },
  {
   "cell_type": "code",
   "execution_count": null,
   "metadata": {
    "id": "XS_01WTMFUe7"
   },
   "outputs": [],
   "source": [
    "testing_path = os.path.join(dataset_path,a[0])"
   ]
  },
  {
   "cell_type": "code",
   "execution_count": null,
   "metadata": {
    "id": "SmjVGcOhFp4b"
   },
   "outputs": [],
   "source": [
    "validation_path = os.path.join(dataset_path,a[2])"
   ]
  },
  {
   "cell_type": "code",
   "execution_count": null,
   "metadata": {
    "id": "ge4AaHFhFIWh"
   },
   "outputs": [],
   "source": [
    "training_image_path = glob.glob(training_path+'/*/*.jpeg')"
   ]
  },
  {
   "cell_type": "code",
   "execution_count": null,
   "metadata": {
    "colab": {
     "base_uri": "https://localhost:8080/"
    },
    "id": "YsE1dD_dKUJt",
    "outputId": "3d41d0a1-010f-4f37-984c-1ef31f58fc32"
   },
   "outputs": [
    {
     "data": {
      "text/plain": [
       "5216"
      ]
     },
     "execution_count": 21,
     "metadata": {},
     "output_type": "execute_result"
    }
   ],
   "source": [
    "len(training_image_path)"
   ]
  },
  {
   "cell_type": "code",
   "execution_count": null,
   "metadata": {
    "id": "zvVjR8yYKA84"
   },
   "outputs": [],
   "source": [
    "import numpy as np\n",
    "import matplotlib.pyplot as plt\n",
    "import matplotlib.colors\n",
    "import imageio\n",
    "import scipy, scipy.misc, scipy.signal\n",
    "import cv2\n",
    "import sys"
   ]
  },
  {
   "cell_type": "code",
   "execution_count": null,
   "metadata": {
    "id": "BxUUmZfBI1jx"
   },
   "outputs": [],
   "source": [
    "def build_is_hist(img):\n",
    "    hei = img.shape[0]\n",
    "    wid = img.shape[1]\n",
    "    ch = img.shape[2]\n",
    "    Img = np.zeros((hei+4, wid+4, ch))\n",
    "    for i in range(ch):\n",
    "        Img[:,:,i] = np.pad(img[:,:,i], (2,2), 'edge')\n",
    "    hsv = (matplotlib.colors.rgb_to_hsv(Img))\n",
    "    hsv[:,:,0] = hsv[:,:,0] * 255\n",
    "    hsv[:,:,1] = hsv[:,:,1] * 255\n",
    "    hsv[hsv>255] = 255\n",
    "    hsv[hsv<0] = 0\n",
    "    hsv = hsv.astype(np.uint8).astype(np.float64)\n",
    "    fh = np.array([[-1.0,0.0,1.0],[-2.0,0.0,2.0],[-1.0,0.0,1.0]])\n",
    "    fv = fh.conj().T\n",
    "    \n",
    "    H = hsv[:,:,0]\n",
    "    S = hsv[:,:,1]\n",
    "    I = hsv[:,:,2]\n",
    "\n",
    "    dIh = scipy.signal.convolve2d(I, np.rot90(fh, 2), mode='same')\n",
    "    dIv = scipy.signal.convolve2d(I, np.rot90(fv, 2), mode='same')\n",
    "    dIh[dIh==0] = 0.00001\n",
    "    dIv[dIv==0] = 0.00001\n",
    "    dI = np.sqrt(dIh**2+dIv**2).astype(np.uint32)\n",
    "    di = dI[2:hei+2,2:wid+2]\n",
    "    \n",
    "    dSh = scipy.signal.convolve2d(S, np.rot90(fh, 2), mode='same')\n",
    "    dSv = scipy.signal.convolve2d(S, np.rot90(fv, 2), mode='same')\n",
    "    dSh[dSh==0] = 0.00001\n",
    "    dSv[dSv==0] = 0.00001\n",
    "    dS = np.sqrt(dSh**2+dSv**2).astype(np.uint32)\n",
    "    ds = dS[2:hei+2,2:wid+2]\n",
    "\n",
    "    \n",
    "    h = H[2:hei+2,2:wid+2]\n",
    "    s = S[2:hei+2,2:wid+2]\n",
    "    i = I[2:hei+2,2:wid+2].astype(np.uint8)\n",
    "    \n",
    "    Imean = scipy.signal.convolve2d(I,np.ones((5,5))/25, mode='same')\n",
    "    Smean = scipy.signal.convolve2d(S,np.ones((5,5))/25, mode='same')\n",
    "    \n",
    "    Rho = np.zeros((hei+4,wid+4))\n",
    "    for p in range(2,hei+2):\n",
    "        for q in range(2,wid+2):\n",
    "            tmpi = I[p-2:p+3,q-2:q+3]\n",
    "            tmps = S[p-2:p+3,q-2:q+3]\n",
    "            corre = np.corrcoef(tmpi.flatten('F'),tmps.flatten('F'))\n",
    "            Rho[p,q] = corre[0,1]\n",
    "    \n",
    "    rho = np.abs(Rho[2:hei+2,2:wid+2])\n",
    "    rho[np.isnan(rho)] = 0\n",
    "    rd = (rho*ds).astype(np.uint32)\n",
    "    Hist_I = np.zeros((256,1))\n",
    "    Hist_S = np.zeros((256,1))\n",
    "    \n",
    "    for n in range(0,255):\n",
    "        temp = np.zeros(di.shape)\n",
    "        temp[i==n] = di[i==n]\n",
    "        Hist_I[n+1] = np.sum(temp.flatten('F'))\n",
    "        temp = np.zeros(di.shape)\n",
    "        temp[i==n] = rd[i==n]\n",
    "        Hist_S[n+1] = np.sum(temp.flatten('F'))\n",
    "\n",
    "    return Hist_I, Hist_S\n"
   ]
  },
  {
   "cell_type": "code",
   "execution_count": null,
   "metadata": {
    "id": "fUh0lnShGemp"
   },
   "outputs": [],
   "source": [
    "def dhe(img, alpha=0.5):\n",
    "    \n",
    "    hist_i, hist_s = build_is_hist(img)\n",
    "    hist_c = alpha*hist_s + (1-alpha)*hist_i\n",
    "    hist_sum = np.sum(hist_c)\n",
    "    hist_cum = hist_c.cumsum(axis=0)\n",
    "    \n",
    "    hsv = matplotlib.colors.rgb_to_hsv(img)\n",
    "    h = hsv[:,:,0]\n",
    "    s = hsv[:,:,1]\n",
    "    i = hsv[:,:,2].astype(np.uint8)\n",
    "    \n",
    "    c = hist_cum / hist_sum\n",
    "    s_r = (c * 255)\n",
    "    i_s = np.zeros(i.shape)\n",
    "    for n in range(0,255):\n",
    "        i_s[i==n] = s_r[n+1]/255.0\n",
    "    i_s[i==255] = 1\n",
    "    hsi_o = np.stack((h,s,i_s), axis=2)\n",
    "    result = matplotlib.colors.hsv_to_rgb(hsi_o)\n",
    "    \n",
    "    result = result * 255\n",
    "    result[result>255] = 255\n",
    "    result[result<0] = 0\n",
    "    return result.astype(np.uint8)"
   ]
  },
  {
   "cell_type": "code",
   "execution_count": null,
   "metadata": {
    "colab": {
     "base_uri": "https://localhost:8080/",
     "height": 35
    },
    "id": "w7vUJcYWKfBo",
    "outputId": "aa305136-9626-4caf-ac2d-82d576c17edb"
   },
   "outputs": [
    {
     "data": {
      "text/plain": [
       "'NORMAL'"
      ]
     },
     "execution_count": 29,
     "metadata": {},
     "output_type": "execute_result"
    }
   ],
   "source": [
    "training_image_path[0].split('\\\\')[2]"
   ]
  },
  {
   "cell_type": "code",
   "execution_count": null,
   "metadata": {
    "colab": {
     "base_uri": "https://localhost:8080/",
     "height": 338
    },
    "id": "59_qSNmnPn3C",
    "outputId": "96befc18-6c1f-4d02-9d9e-ad4b77f9adba"
   },
   "outputs": [
    {
     "data": {
      "image/png": "[encoded data removed]",
      "text/plain": [
       "<Figure size 432x288 with 1 Axes>"
      ]
     },
     "metadata": {
      "needs_background": "light"
     },
     "output_type": "display_data"
    }
   ],
   "source": [
    "#applying dhe\n",
    "img = cv2.imread(training_image_path[0])\n",
    "result = dhe(img)\n",
    "plt.imshow(result)\n",
    "plt.show()"
   ]
  },
  {
   "cell_type": "code",
   "execution_count": null,
   "metadata": {
    "id": "abyFDCi3OR6i"
   },
   "outputs": [],
   "source": [
    "from tqdm import tqdm"
   ]
  },
  {
   "cell_type": "code",
   "execution_count": null,
   "metadata": {
    "colab": {
     "background_save": true,
     "base_uri": "https://localhost:8080/"
    },
    "id": "mL-p5_mZIQrK",
    "outputId": "554fc567-c0af-4a54-97ea-fbf15b181088"
   },
   "outputs": [
    {
     "name": "stderr",
     "output_type": "stream",
     "text": [
      "100%|████████████████████████████████████████████████████████████████████████████| 5216/5216 [4:49:25<00:00,  3.33s/it]\n"
     ]
    }
   ],
   "source": [
    "x_train = []\n",
    "y_train = []\n",
    "for i in tqdm(range(len(training_image_path))):\n",
    "  image = cv2.imread(training_image_path[i])\n",
    "  image=cv2.resize(image, (224,224))\n",
    "  dhe_image = dhe(image)\n",
    "  x_train.append(dhe_image)\n",
    "  cls = training_image_path[i].split('\\\\')[2]\n",
    "  if cls=='PNEUMONIA':\n",
    "    lbl = 1\n",
    "  else:\n",
    "    lbl = 0\n",
    "  y_train.append(lbl)\n"
   ]
  },
  {
   "cell_type": "code",
   "execution_count": null,
   "metadata": {
    "id": "kRiPJ6HiedVm"
   },
   "outputs": [],
   "source": [
    "y_train = []\n",
    "for i in tqdm(range(len(training_image_path))):\n",
    "  cls = training_image_path[i].split('\\\\')[2]\n",
    "  if cls=='PNEUMONIA':\n",
    "    lbl = 1\n",
    "  else:\n",
    "    lbl = 0\n",
    "  y_train.append(lbl)"
   ]
  },
  {
   "cell_type": "code",
   "execution_count": null,
   "metadata": {
    "id": "O0qVFpj-edVn"
   },
   "outputs": [],
   "source": [
    "x_train = np.array(x_train)\n",
    "y_train = np.array(y_train)"
   ]
  },
  {
   "cell_type": "code",
   "execution_count": null,
   "metadata": {
    "id": "3sCoFw6zedVn"
   },
   "outputs": [],
   "source": [
    "x_train=[]\n",
    "for image in x_train:\n",
    "     gray = cv2.cvtColor(image, cv2.COLOR_BGR2GRAY) # ADD THIS\n",
    "     x_train.append(gray)"
   ]
  },
  {
   "cell_type": "code",
   "execution_count": null,
   "metadata": {
    "id": "v0oB7ZvSedVo"
   },
   "outputs": [],
   "source": [
    "x_train=np.array(x_train)"
   ]
  },
  {
   "cell_type": "code",
   "execution_count": null,
   "metadata": {
    "id": "dP12XAJfedVp"
   },
   "outputs": [],
   "source": [
    "x_train = x_train.reshape(x_train.shape[0],224,224, 1) "
   ]
  },
  {
   "cell_type": "code",
   "execution_count": null,
   "metadata": {
    "id": "c0uFwrbSedVp"
   },
   "outputs": [],
   "source": [
    "x_train = a"
   ]
  },
  {
   "cell_type": "code",
   "execution_count": null,
   "metadata": {
    "id": "eJ1Zg2_ledVq",
    "outputId": "48d821cc-e39f-4ebe-df35-01eef0bfbc0c"
   },
   "outputs": [
    {
     "data": {
      "text/plain": [
       "(5216, 224, 224, 1)"
      ]
     },
     "execution_count": 82,
     "metadata": {},
     "output_type": "execute_result"
    }
   ],
   "source": [
    "x_train.shape"
   ]
  },
  {
   "cell_type": "code",
   "execution_count": null,
   "metadata": {
    "id": "rKmk8y_fedVr"
   },
   "outputs": [],
   "source": [
    "testing_image_path = glob.glob(testing_path+'/*/*.jpeg')"
   ]
  },
  {
   "cell_type": "code",
   "execution_count": null,
   "metadata": {
    "id": "Q8VZjk_jIgpu",
    "outputId": "83324ca3-4f09-40d7-8802-94540f926154"
   },
   "outputs": [
    {
     "name": "stderr",
     "output_type": "stream",
     "text": [
      "100%|████████████████████████████████████████████████████████████████████████████████| 624/624 [35:08<00:00,  3.38s/it]\n"
     ]
    }
   ],
   "source": [
    "x_test = []\n",
    "y_test = []\n",
    "for i in tqdm(range(len(testing_image_path))):\n",
    "  image = cv2.imread(testing_image_path[i])\n",
    "  image=cv2.resize(image, (224,224))\n",
    "  dhe_image = dhe(image)\n",
    "  x_test.append(dhe_image)\n",
    "  cls = testing_image_path[i].split('\\\\')[-2]\n",
    "  if cls=='PNEUMONIA':\n",
    "    lbl = 1\n",
    "  else:\n",
    "    lbl = 0\n",
    "  y_test.append(lbl)\n"
   ]
  },
  {
   "cell_type": "code",
   "execution_count": null,
   "metadata": {
    "id": "NWGUCpqVedVu"
   },
   "outputs": [],
   "source": [
    "x_test = np.array(x_test)\n",
    "y_test = np.array(y_test)"
   ]
  },
  {
   "cell_type": "code",
   "execution_count": null,
   "metadata": {
    "id": "w2c0kQl-edVv"
   },
   "outputs": [],
   "source": [
    "test_images=[]\n",
    "for image in x_test:\n",
    "     gray = cv2.cvtColor(image, cv2.COLOR_BGR2GRAY) # ADD THIS\n",
    "     test_images.append(gray)"
   ]
  },
  {
   "cell_type": "code",
   "execution_count": null,
   "metadata": {
    "id": "igf7vC-cedVv"
   },
   "outputs": [],
   "source": [
    "test_images = np.array(test_images)"
   ]
  },
  {
   "cell_type": "code",
   "execution_count": null,
   "metadata": {
    "id": "rs3ofXTjedVv"
   },
   "outputs": [],
   "source": [
    "test_images = test_images.reshape(test_images.shape[0],224,224, 1) "
   ]
  },
  {
   "cell_type": "code",
   "execution_count": null,
   "metadata": {
    "id": "vERpB9HuedVw"
   },
   "outputs": [],
   "source": [
    "x_test = test_images"
   ]
  },
  {
   "cell_type": "code",
   "execution_count": null,
   "metadata": {
    "id": "N7MypCfZedVw",
    "outputId": "47a64fe2-ee58-4e96-c764-e0fe03fcba5c"
   },
   "outputs": [
    {
     "name": "stdout",
     "output_type": "stream",
     "text": [
      "(624, 224, 224, 1) (624,)\n"
     ]
    }
   ],
   "source": [
    "print(x_test.shape,y_test.shape)"
   ]
  },
  {
   "cell_type": "code",
   "execution_count": null,
   "metadata": {
    "id": "GD7a7hP0edVx"
   },
   "outputs": [],
   "source": [
    "validation_image_path =  glob.glob(validation_path+'/*/*.jpeg')"
   ]
  },
  {
   "cell_type": "code",
   "execution_count": null,
   "metadata": {
    "id": "C8rvfXQOedVx",
    "outputId": "eeb3d1b2-fbc1-481e-fb31-dc7a1316ff47"
   },
   "outputs": [
    {
     "data": {
      "text/plain": [
       "'NORMAL'"
      ]
     },
     "execution_count": 95,
     "metadata": {},
     "output_type": "execute_result"
    }
   ],
   "source": [
    "validation_image_path[0].split('\\\\')[-2]"
   ]
  },
  {
   "cell_type": "code",
   "execution_count": null,
   "metadata": {
    "id": "_EFltNhjedVy",
    "outputId": "d212af08-f8f0-4444-d6db-fe923cd6af11"
   },
   "outputs": [
    {
     "name": "stderr",
     "output_type": "stream",
     "text": [
      "100%|██████████████████████████████████████████████████████████████████████████████████| 16/16 [00:54<00:00,  3.39s/it]\n"
     ]
    }
   ],
   "source": [
    "x_val = []\n",
    "y_val = []\n",
    "for i in tqdm(range(len(validation_image_path))):\n",
    "  image = cv2.imread(validation_image_path[i])\n",
    "  image=cv2.resize(image, (224,224))\n",
    "  dhe_image = dhe(image)\n",
    "  x_val.append(dhe_image)\n",
    " \n"
   ]
  },
  {
   "cell_type": "code",
   "execution_count": null,
   "metadata": {
    "id": "kmNUGxyLedVy"
   },
   "outputs": [],
   "source": [
    "x_val = np.array(x_val)\n",
    "y_val = np.array(y_val)"
   ]
  },
  {
   "cell_type": "code",
   "execution_count": null,
   "metadata": {
    "id": "uZfqEC72edVy"
   },
   "outputs": [],
   "source": [
    "val_images=[]\n",
    "for image in x_val:\n",
    "     gray = cv2.cvtColor(image, cv2.COLOR_BGR2GRAY) # ADD THIS\n",
    "     val_images.append(gray)"
   ]
  },
  {
   "cell_type": "code",
   "execution_count": null,
   "metadata": {
    "id": "65PJY5ZsedVz"
   },
   "outputs": [],
   "source": [
    "val_images = np.array(val_images)"
   ]
  },
  {
   "cell_type": "code",
   "execution_count": null,
   "metadata": {
    "id": "O6-Utp9XedVz"
   },
   "outputs": [],
   "source": [
    "val_images = val_images.reshape(val_images.shape[0],224,224, 1) "
   ]
  },
  {
   "cell_type": "code",
   "execution_count": null,
   "metadata": {
    "id": "e2XJ5Uo1edV1"
   },
   "outputs": [],
   "source": [
    "x_val= val_images"
   ]
  },
  {
   "cell_type": "code",
   "execution_count": null,
   "metadata": {
    "id": "HQmzQyUvedV2",
    "outputId": "af57e5a1-7f5f-4338-e0c3-36f2c8ced8b6"
   },
   "outputs": [
    {
     "name": "stdout",
     "output_type": "stream",
     "text": [
      "(16, 224, 224, 1) (16,)\n"
     ]
    }
   ],
   "source": [
    "print(x_val.shape,y_val.shape)"
   ]
  },
  {
   "cell_type": "code",
   "execution_count": null,
   "metadata": {},
   "outputs": [],
   "source": [
    "# load numpy array from npy file\n",
    "from numpy import load"
   ]
  },
  {
   "cell_type": "code",
   "execution_count": null,
   "metadata": {
    "id": "GidaM6GTFWc1"
   },
   "outputs": [],
   "source": [
    "#loading images \n",
    "x_train = load('/content/gdrive/MyDrive/pneumonia detection/training_images.npy')\n",
    "y_train =load('/content/gdrive/MyDrive/pneumonia detection/training_labels.npy')\n",
    "x_test = load('/content/gdrive/MyDrive/pneumonia detection/testing_images.npy')\n",
    "y_test = load('/content/gdrive/MyDrive/pneumonia detection/testing_labels.npy')\n",
    "x_val = load('/content/gdrive/MyDrive/pneumonia detection/validation_images.npy')\n",
    "y_val = load('/content/gdrive/MyDrive/pneumonia detection/validation_labels.npy')"
   ]
  },
  {
   "cell_type": "code",
   "execution_count": null,
   "metadata": {
    "id": "ZgxBPA9fedV3"
   },
   "outputs": [],
   "source": [
    "import tensorflow as tf\n",
    "import keras\n",
    "from keras.models import Sequential,Input,Model\n",
    "from keras.layers import Dense, Dropout, Flatten\n",
    "from keras.layers import Conv2D, MaxPooling2D\n",
    "from keras.layers import BatchNormalization\n",
    "from tensorflow.keras.activations import sigmoid\n",
    "from keras.layers.convolutional import Conv2D\n",
    "from tensorflow.keras.optimizers import Adam\n",
    "from tensorflow.keras.utils import to_categorical, plot_model"
   ]
  },
  {
   "cell_type": "code",
   "execution_count": null,
   "metadata": {
    "id": "cd_AHlomedV3"
   },
   "outputs": [],
   "source": [
    "#building model\n",
    "model =Sequential()\n",
    "model.add(Conv2D(32,kernel_size=(3,3),strides=(1,1),activation='relu',input_shape=(224,224,1),padding='same'))\n",
    "model.add(MaxPooling2D(pool_size=(2,2),strides=(2, 2)))\n",
    "model.add(Dropout(0.2))\n",
    "model.add(Conv2D(64,kernel_size=(3,3),strides=(1,1),activation='relu',padding='same'))\n",
    "model.add(MaxPooling2D(pool_size=(2,2),strides=(2, 2)))\n",
    "model.add(Dropout(0.2))\n",
    "model.add(Conv2D(64,kernel_size=(3,3),strides=(1,1),activation='relu',padding='same'))\n",
    "model.add(MaxPooling2D(pool_size=(2,2),strides=(2, 2)))\n",
    "model.add(Dropout(0.2))\n",
    "model.add(Conv2D(128,kernel_size=(3,3),strides=(1,1),activation='relu',padding='same'))\n",
    "model.add(MaxPooling2D(pool_size=(2,2),strides=(2, 2)))\n",
    "model.add(Dropout(0.2))\n",
    "model.add(Flatten())\n",
    "model.add(Dense(128,activation='relu'))\n",
    "model.add(Dropout(0.2))\n",
    "model.add(Dense(2,activation='softmax'))"
   ]
  },
  {
   "cell_type": "code",
   "execution_count": null,
   "metadata": {
    "colab": {
     "base_uri": "https://localhost:8080/"
    },
    "id": "NhfJXZ-jedV4",
    "outputId": "9be1bfa9-efd0-4291-fe36-47b7dff07048"
   },
   "outputs": [
    {
     "name": "stdout",
     "output_type": "stream",
     "text": [
      "Model: \"sequential_6\"\n",
      "_________________________________________________________________\n",
      "Layer (type)                 Output Shape              Param #   \n",
      "=================================================================\n",
      "conv2d_24 (Conv2D)           (None, 224, 224, 32)      320       \n",
      "_________________________________________________________________\n",
      "max_pooling2d_24 (MaxPooling (None, 112, 112, 32)      0         \n",
      "_________________________________________________________________\n",
      "dropout_26 (Dropout)         (None, 112, 112, 32)      0         \n",
      "_________________________________________________________________\n",
      "conv2d_25 (Conv2D)           (None, 112, 112, 64)      18496     \n",
      "_________________________________________________________________\n",
      "max_pooling2d_25 (MaxPooling (None, 56, 56, 64)        0         \n",
      "_________________________________________________________________\n",
      "dropout_27 (Dropout)         (None, 56, 56, 64)        0         \n",
      "_________________________________________________________________\n",
      "conv2d_26 (Conv2D)           (None, 56, 56, 64)        36928     \n",
      "_________________________________________________________________\n",
      "max_pooling2d_26 (MaxPooling (None, 28, 28, 64)        0         \n",
      "_________________________________________________________________\n",
      "dropout_28 (Dropout)         (None, 28, 28, 64)        0         \n",
      "_________________________________________________________________\n",
      "conv2d_27 (Conv2D)           (None, 28, 28, 128)       73856     \n",
      "_________________________________________________________________\n",
      "max_pooling2d_27 (MaxPooling (None, 14, 14, 128)       0         \n",
      "_________________________________________________________________\n",
      "dropout_29 (Dropout)         (None, 14, 14, 128)       0         \n",
      "_________________________________________________________________\n",
      "flatten_6 (Flatten)          (None, 25088)             0         \n",
      "_________________________________________________________________\n",
      "dense_12 (Dense)             (None, 128)               3211392   \n",
      "_________________________________________________________________\n",
      "dropout_30 (Dropout)         (None, 128)               0         \n",
      "_________________________________________________________________\n",
      "dense_13 (Dense)             (None, 2)                 258       \n",
      "=================================================================\n",
      "Total params: 3,341,250\n",
      "Trainable params: 3,341,250\n",
      "Non-trainable params: 0\n",
      "_________________________________________________________________\n"
     ]
    }
   ],
   "source": [
    "model.summary()"
   ]
  },
  {
   "cell_type": "code",
   "execution_count": null,
   "metadata": {
    "id": "1T2n5Q7TmMGN"
   },
   "outputs": [],
   "source": [
    "#data augumentation\n",
    "data_generator = tf.keras.preprocessing.image.ImageDataGenerator( rotation_range=30, width_shift_range=0.1,\n",
    "    height_shift_range=0.1, shear_range=0.2, zoom_range=0.2,horizontal_flip=True,vertical_flip=True)"
   ]
  },
  {
   "cell_type": "code",
   "execution_count": null,
   "metadata": {
    "id": "7r3X5qdDoFiV"
   },
   "outputs": [],
   "source": [
    "data_generator.fit(x_train)\n",
    "data_generator.fit(x_val)"
   ]
  },
  {
   "cell_type": "code",
   "execution_count": null,
   "metadata": {
    "id": "Enq08kb6edV4"
   },
   "outputs": [],
   "source": [
    "#compiling the model\n",
    "model.compile(loss=tf.keras.losses.BinaryCrossentropy(), optimizer=Adam(learning_rate=0.001,decay=0.0001),metrics=['accuracy'])"
   ]
  },
  {
   "cell_type": "code",
   "execution_count": null,
   "metadata": {
    "colab": {
     "base_uri": "https://localhost:8080/"
    },
    "id": "ucfVnputedV5",
    "outputId": "c71ba099-94cc-4083-fa0c-17968fefd6d3"
   },
   "outputs": [
    {
     "name": "stdout",
     "output_type": "stream",
     "text": [
      "Epoch 1/100\n",
      "163/163 [==============================] - 28s 165ms/step - loss: 2.6341 - accuracy: 0.7395 - val_loss: 1.3252 - val_accuracy: 0.6250\n",
      "Epoch 2/100\n",
      "163/163 [==============================] - 26s 162ms/step - loss: 0.3593 - accuracy: 0.8299 - val_loss: 1.8636 - val_accuracy: 0.5625\n",
      "Epoch 3/100\n",
      "163/163 [==============================] - 26s 162ms/step - loss: 0.2983 - accuracy: 0.8742 - val_loss: 1.7264 - val_accuracy: 0.6250\n",
      "Epoch 4/100\n",
      "163/163 [==============================] - 26s 162ms/step - loss: 0.2765 - accuracy: 0.8850 - val_loss: 1.5869 - val_accuracy: 0.6250\n",
      "Epoch 5/100\n",
      "163/163 [==============================] - 27s 164ms/step - loss: 0.2799 - accuracy: 0.8857 - val_loss: 1.4126 - val_accuracy: 0.6250\n",
      "Epoch 6/100\n",
      "163/163 [==============================] - 27s 163ms/step - loss: 0.2678 - accuracy: 0.8859 - val_loss: 1.1597 - val_accuracy: 0.6250\n",
      "Epoch 7/100\n",
      "163/163 [==============================] - 26s 162ms/step - loss: 0.2582 - accuracy: 0.8957 - val_loss: 1.1341 - val_accuracy: 0.6875\n",
      "Epoch 8/100\n",
      "163/163 [==============================] - 26s 162ms/step - loss: 0.2518 - accuracy: 0.8976 - val_loss: 1.1319 - val_accuracy: 0.6250\n",
      "Epoch 9/100\n",
      "163/163 [==============================] - 26s 161ms/step - loss: 0.2449 - accuracy: 0.9013 - val_loss: 1.2454 - val_accuracy: 0.5625\n",
      "Epoch 10/100\n",
      "163/163 [==============================] - 26s 160ms/step - loss: 0.2439 - accuracy: 0.9007 - val_loss: 1.2372 - val_accuracy: 0.6250\n",
      "Epoch 11/100\n",
      "163/163 [==============================] - 26s 161ms/step - loss: 0.2446 - accuracy: 0.9024 - val_loss: 0.7845 - val_accuracy: 0.6250\n",
      "Epoch 12/100\n",
      "163/163 [==============================] - 26s 161ms/step - loss: 0.2345 - accuracy: 0.9059 - val_loss: 0.9601 - val_accuracy: 0.6250\n",
      "Epoch 13/100\n",
      "163/163 [==============================] - 26s 160ms/step - loss: 0.2357 - accuracy: 0.9041 - val_loss: 1.1126 - val_accuracy: 0.6250\n",
      "Epoch 14/100\n",
      "163/163 [==============================] - 26s 161ms/step - loss: 0.2207 - accuracy: 0.9149 - val_loss: 1.4079 - val_accuracy: 0.6250\n",
      "Epoch 15/100\n",
      "163/163 [==============================] - 26s 160ms/step - loss: 0.2225 - accuracy: 0.9137 - val_loss: 1.1896 - val_accuracy: 0.5625\n",
      "Epoch 16/100\n",
      "163/163 [==============================] - 26s 161ms/step - loss: 0.2332 - accuracy: 0.9078 - val_loss: 1.0365 - val_accuracy: 0.6250\n",
      "Epoch 17/100\n",
      "163/163 [==============================] - 26s 160ms/step - loss: 0.2242 - accuracy: 0.9112 - val_loss: 0.8824 - val_accuracy: 0.6250\n",
      "Epoch 18/100\n",
      "163/163 [==============================] - 26s 160ms/step - loss: 0.2193 - accuracy: 0.9139 - val_loss: 1.1475 - val_accuracy: 0.6250\n",
      "Epoch 19/100\n",
      "163/163 [==============================] - 26s 161ms/step - loss: 0.2158 - accuracy: 0.9137 - val_loss: 1.6663 - val_accuracy: 0.6250\n",
      "Epoch 20/100\n",
      "163/163 [==============================] - 26s 162ms/step - loss: 0.2171 - accuracy: 0.9109 - val_loss: 1.4235 - val_accuracy: 0.6250\n",
      "Epoch 21/100\n",
      "163/163 [==============================] - 26s 162ms/step - loss: 0.2159 - accuracy: 0.9166 - val_loss: 0.8023 - val_accuracy: 0.7500\n",
      "Epoch 22/100\n",
      "163/163 [==============================] - 26s 162ms/step - loss: 0.2162 - accuracy: 0.9158 - val_loss: 0.9369 - val_accuracy: 0.6875\n",
      "Epoch 23/100\n",
      "163/163 [==============================] - 26s 162ms/step - loss: 0.2183 - accuracy: 0.9093 - val_loss: 1.5572 - val_accuracy: 0.6250\n",
      "Epoch 24/100\n",
      "163/163 [==============================] - 26s 161ms/step - loss: 0.2185 - accuracy: 0.9195 - val_loss: 1.3071 - val_accuracy: 0.6250\n",
      "Epoch 25/100\n",
      "163/163 [==============================] - 26s 161ms/step - loss: 0.2076 - accuracy: 0.9191 - val_loss: 1.6785 - val_accuracy: 0.5625\n",
      "Epoch 26/100\n",
      "163/163 [==============================] - 26s 161ms/step - loss: 0.2117 - accuracy: 0.9147 - val_loss: 1.2094 - val_accuracy: 0.5000\n",
      "Epoch 27/100\n",
      "163/163 [==============================] - 26s 161ms/step - loss: 0.2078 - accuracy: 0.9178 - val_loss: 1.1206 - val_accuracy: 0.6250\n",
      "Epoch 28/100\n",
      "163/163 [==============================] - 27s 164ms/step - loss: 0.2020 - accuracy: 0.9201 - val_loss: 0.8490 - val_accuracy: 0.6875\n",
      "Epoch 29/100\n",
      "163/163 [==============================] - 27s 163ms/step - loss: 0.1981 - accuracy: 0.9233 - val_loss: 1.2866 - val_accuracy: 0.6250\n",
      "Epoch 30/100\n",
      "163/163 [==============================] - 27s 164ms/step - loss: 0.2040 - accuracy: 0.9179 - val_loss: 1.3766 - val_accuracy: 0.6250\n",
      "Epoch 31/100\n",
      "163/163 [==============================] - 27s 163ms/step - loss: 0.2020 - accuracy: 0.9216 - val_loss: 1.1464 - val_accuracy: 0.6250\n",
      "Epoch 32/100\n",
      "163/163 [==============================] - 27s 163ms/step - loss: 0.1976 - accuracy: 0.9233 - val_loss: 0.9032 - val_accuracy: 0.6875\n",
      "Epoch 33/100\n",
      "163/163 [==============================] - 27s 163ms/step - loss: 0.1835 - accuracy: 0.9304 - val_loss: 1.2715 - val_accuracy: 0.5000\n",
      "Epoch 34/100\n",
      "163/163 [==============================] - 27s 164ms/step - loss: 0.1932 - accuracy: 0.9243 - val_loss: 0.8229 - val_accuracy: 0.6250\n",
      "Epoch 35/100\n",
      "163/163 [==============================] - 27s 163ms/step - loss: 0.1923 - accuracy: 0.9241 - val_loss: 1.4114 - val_accuracy: 0.5625\n",
      "Epoch 36/100\n",
      "163/163 [==============================] - 27s 163ms/step - loss: 0.1964 - accuracy: 0.9229 - val_loss: 1.2770 - val_accuracy: 0.6250\n",
      "Epoch 37/100\n",
      "163/163 [==============================] - 27s 164ms/step - loss: 0.1867 - accuracy: 0.9289 - val_loss: 1.2348 - val_accuracy: 0.6875\n",
      "Epoch 38/100\n",
      "163/163 [==============================] - 27s 164ms/step - loss: 0.1806 - accuracy: 0.9266 - val_loss: 1.6600 - val_accuracy: 0.6250\n",
      "Epoch 39/100\n",
      "163/163 [==============================] - 27s 164ms/step - loss: 0.1924 - accuracy: 0.9252 - val_loss: 1.1867 - val_accuracy: 0.6250\n",
      "Epoch 40/100\n",
      "163/163 [==============================] - 27s 163ms/step - loss: 0.1946 - accuracy: 0.9270 - val_loss: 0.9694 - val_accuracy: 0.6875\n",
      "Epoch 41/100\n",
      "163/163 [==============================] - 26s 162ms/step - loss: 0.1788 - accuracy: 0.9289 - val_loss: 0.6867 - val_accuracy: 0.6250\n",
      "Epoch 42/100\n",
      "163/163 [==============================] - 26s 161ms/step - loss: 0.1866 - accuracy: 0.9250 - val_loss: 2.1277 - val_accuracy: 0.5625\n",
      "Epoch 43/100\n",
      "163/163 [==============================] - 26s 161ms/step - loss: 0.1823 - accuracy: 0.9300 - val_loss: 1.0065 - val_accuracy: 0.5625\n",
      "Epoch 44/100\n",
      "163/163 [==============================] - 26s 161ms/step - loss: 0.1866 - accuracy: 0.9285 - val_loss: 1.1698 - val_accuracy: 0.6250\n",
      "Epoch 45/100\n",
      "163/163 [==============================] - 26s 160ms/step - loss: 0.1765 - accuracy: 0.9339 - val_loss: 1.3720 - val_accuracy: 0.6875\n",
      "Epoch 46/100\n",
      "163/163 [==============================] - 27s 163ms/step - loss: 0.1848 - accuracy: 0.9289 - val_loss: 0.9642 - val_accuracy: 0.6875\n",
      "Epoch 47/100\n",
      "163/163 [==============================] - 27s 163ms/step - loss: 0.1763 - accuracy: 0.9306 - val_loss: 1.3579 - val_accuracy: 0.6250\n",
      "Epoch 48/100\n",
      "163/163 [==============================] - 27s 165ms/step - loss: 0.1691 - accuracy: 0.9308 - val_loss: 0.9922 - val_accuracy: 0.6250\n",
      "Epoch 49/100\n",
      "163/163 [==============================] - 27s 164ms/step - loss: 0.1731 - accuracy: 0.9339 - val_loss: 1.0882 - val_accuracy: 0.5625\n",
      "Epoch 50/100\n",
      "163/163 [==============================] - 27s 163ms/step - loss: 0.1735 - accuracy: 0.9331 - val_loss: 1.0783 - val_accuracy: 0.6250\n",
      "Epoch 51/100\n",
      "163/163 [==============================] - 26s 162ms/step - loss: 0.1695 - accuracy: 0.9356 - val_loss: 0.9311 - val_accuracy: 0.6875\n",
      "Epoch 52/100\n",
      "163/163 [==============================] - 26s 160ms/step - loss: 0.1725 - accuracy: 0.9339 - val_loss: 1.0253 - val_accuracy: 0.6875\n",
      "Epoch 53/100\n",
      "163/163 [==============================] - 26s 160ms/step - loss: 0.1727 - accuracy: 0.9365 - val_loss: 1.1319 - val_accuracy: 0.6250\n",
      "Epoch 54/100\n",
      "163/163 [==============================] - 26s 160ms/step - loss: 0.1734 - accuracy: 0.9340 - val_loss: 0.9774 - val_accuracy: 0.6250\n",
      "Epoch 55/100\n",
      "163/163 [==============================] - 26s 161ms/step - loss: 0.1628 - accuracy: 0.9390 - val_loss: 1.4448 - val_accuracy: 0.6250\n",
      "Epoch 56/100\n",
      "163/163 [==============================] - 26s 161ms/step - loss: 0.1630 - accuracy: 0.9350 - val_loss: 0.8155 - val_accuracy: 0.6875\n",
      "Epoch 57/100\n",
      "163/163 [==============================] - 27s 163ms/step - loss: 0.1692 - accuracy: 0.9348 - val_loss: 0.8395 - val_accuracy: 0.6875\n",
      "Epoch 58/100\n",
      "163/163 [==============================] - 26s 161ms/step - loss: 0.1648 - accuracy: 0.9363 - val_loss: 0.9269 - val_accuracy: 0.7500\n",
      "Epoch 59/100\n",
      "163/163 [==============================] - 26s 160ms/step - loss: 0.1632 - accuracy: 0.9388 - val_loss: 0.9239 - val_accuracy: 0.6250\n",
      "Epoch 60/100\n",
      "163/163 [==============================] - 26s 160ms/step - loss: 0.1580 - accuracy: 0.9387 - val_loss: 1.2405 - val_accuracy: 0.6250\n",
      "Epoch 61/100\n",
      "163/163 [==============================] - 26s 160ms/step - loss: 0.1592 - accuracy: 0.9388 - val_loss: 0.7737 - val_accuracy: 0.6875\n",
      "Epoch 62/100\n",
      "163/163 [==============================] - 27s 163ms/step - loss: 0.1620 - accuracy: 0.9342 - val_loss: 1.0257 - val_accuracy: 0.6250\n",
      "Epoch 63/100\n",
      "163/163 [==============================] - 27s 164ms/step - loss: 0.1600 - accuracy: 0.9381 - val_loss: 0.7121 - val_accuracy: 0.6250\n",
      "Epoch 64/100\n",
      "163/163 [==============================] - 27s 163ms/step - loss: 0.1528 - accuracy: 0.9410 - val_loss: 0.7307 - val_accuracy: 0.7500\n",
      "Epoch 65/100\n",
      "163/163 [==============================] - 27s 163ms/step - loss: 0.1527 - accuracy: 0.9413 - val_loss: 1.1792 - val_accuracy: 0.6250\n",
      "Epoch 66/100\n",
      "163/163 [==============================] - 27s 163ms/step - loss: 0.1570 - accuracy: 0.9411 - val_loss: 0.8927 - val_accuracy: 0.6250\n",
      "Epoch 67/100\n",
      "163/163 [==============================] - 27s 162ms/step - loss: 0.1513 - accuracy: 0.9427 - val_loss: 0.7346 - val_accuracy: 0.6250\n",
      "Epoch 68/100\n",
      "163/163 [==============================] - 27s 163ms/step - loss: 0.1512 - accuracy: 0.9427 - val_loss: 1.0790 - val_accuracy: 0.6875\n",
      "Epoch 69/100\n",
      "163/163 [==============================] - 26s 161ms/step - loss: 0.1511 - accuracy: 0.9434 - val_loss: 0.6131 - val_accuracy: 0.8125\n",
      "Epoch 70/100\n",
      "163/163 [==============================] - 26s 162ms/step - loss: 0.1543 - accuracy: 0.9406 - val_loss: 0.7751 - val_accuracy: 0.6250\n",
      "Epoch 71/100\n",
      "163/163 [==============================] - 26s 162ms/step - loss: 0.1481 - accuracy: 0.9456 - val_loss: 1.3771 - val_accuracy: 0.6250\n",
      "Epoch 72/100\n",
      "163/163 [==============================] - 27s 162ms/step - loss: 0.1611 - accuracy: 0.9387 - val_loss: 0.7085 - val_accuracy: 0.6250\n",
      "Epoch 73/100\n",
      "163/163 [==============================] - 26s 160ms/step - loss: 0.1484 - accuracy: 0.9465 - val_loss: 0.7441 - val_accuracy: 0.6875\n",
      "Epoch 74/100\n",
      "163/163 [==============================] - 26s 160ms/step - loss: 0.1488 - accuracy: 0.9436 - val_loss: 0.7302 - val_accuracy: 0.6875\n",
      "Epoch 75/100\n",
      "163/163 [==============================] - 26s 160ms/step - loss: 0.1446 - accuracy: 0.9448 - val_loss: 0.8162 - val_accuracy: 0.6250\n",
      "Epoch 76/100\n",
      "163/163 [==============================] - 26s 160ms/step - loss: 0.1451 - accuracy: 0.9411 - val_loss: 0.9076 - val_accuracy: 0.6250\n",
      "Epoch 77/100\n",
      "163/163 [==============================] - 26s 160ms/step - loss: 0.1453 - accuracy: 0.9421 - val_loss: 0.6517 - val_accuracy: 0.6875\n",
      "Epoch 78/100\n",
      "163/163 [==============================] - 26s 160ms/step - loss: 0.1416 - accuracy: 0.9484 - val_loss: 1.1356 - val_accuracy: 0.6250\n",
      "Epoch 79/100\n",
      "163/163 [==============================] - 26s 160ms/step - loss: 0.1415 - accuracy: 0.9421 - val_loss: 0.6929 - val_accuracy: 0.6250\n",
      "Epoch 80/100\n",
      "163/163 [==============================] - 26s 161ms/step - loss: 0.1424 - accuracy: 0.9446 - val_loss: 0.7801 - val_accuracy: 0.7500\n",
      "Epoch 81/100\n",
      "163/163 [==============================] - 26s 160ms/step - loss: 0.1449 - accuracy: 0.9454 - val_loss: 0.6121 - val_accuracy: 0.6250\n",
      "Epoch 82/100\n",
      "163/163 [==============================] - 26s 161ms/step - loss: 0.1434 - accuracy: 0.9465 - val_loss: 0.7496 - val_accuracy: 0.6250\n",
      "Epoch 83/100\n",
      "163/163 [==============================] - 26s 161ms/step - loss: 0.1398 - accuracy: 0.9463 - val_loss: 0.9199 - val_accuracy: 0.6875\n",
      "Epoch 84/100\n",
      "163/163 [==============================] - 26s 162ms/step - loss: 0.1328 - accuracy: 0.9463 - val_loss: 0.7749 - val_accuracy: 0.6875\n",
      "Epoch 85/100\n",
      "163/163 [==============================] - 27s 163ms/step - loss: 0.1361 - accuracy: 0.9492 - val_loss: 0.4973 - val_accuracy: 0.8125\n",
      "Epoch 86/100\n",
      "163/163 [==============================] - 26s 162ms/step - loss: 0.1382 - accuracy: 0.9446 - val_loss: 0.8447 - val_accuracy: 0.8125\n",
      "Epoch 87/100\n",
      "163/163 [==============================] - 27s 162ms/step - loss: 0.1435 - accuracy: 0.9433 - val_loss: 0.6020 - val_accuracy: 0.6875\n",
      "Epoch 88/100\n",
      "163/163 [==============================] - 26s 162ms/step - loss: 0.1372 - accuracy: 0.9494 - val_loss: 0.4525 - val_accuracy: 0.7500\n",
      "Epoch 89/100\n",
      "163/163 [==============================] - 27s 162ms/step - loss: 0.1408 - accuracy: 0.9473 - val_loss: 0.6418 - val_accuracy: 0.7500\n",
      "Epoch 90/100\n",
      "163/163 [==============================] - 27s 162ms/step - loss: 0.1383 - accuracy: 0.9492 - val_loss: 0.6616 - val_accuracy: 0.7500\n",
      "Epoch 91/100\n",
      "163/163 [==============================] - 27s 163ms/step - loss: 0.1244 - accuracy: 0.9526 - val_loss: 0.4359 - val_accuracy: 0.8125\n",
      "Epoch 92/100\n",
      "163/163 [==============================] - 27s 163ms/step - loss: 0.1369 - accuracy: 0.9479 - val_loss: 0.4056 - val_accuracy: 0.8125\n",
      "Epoch 93/100\n",
      "163/163 [==============================] - 27s 163ms/step - loss: 0.1400 - accuracy: 0.9467 - val_loss: 0.2673 - val_accuracy: 0.8750\n",
      "Epoch 94/100\n",
      "163/163 [==============================] - 27s 163ms/step - loss: 0.1241 - accuracy: 0.9521 - val_loss: 0.6616 - val_accuracy: 0.7500\n",
      "Epoch 95/100\n",
      "163/163 [==============================] - 27s 164ms/step - loss: 0.1270 - accuracy: 0.9507 - val_loss: 0.5366 - val_accuracy: 0.7500\n",
      "Epoch 96/100\n",
      "163/163 [==============================] - 27s 163ms/step - loss: 0.1181 - accuracy: 0.9561 - val_loss: 0.4216 - val_accuracy: 0.7500\n",
      "Epoch 97/100\n",
      "163/163 [==============================] - 27s 162ms/step - loss: 0.1341 - accuracy: 0.9498 - val_loss: 0.5762 - val_accuracy: 0.6250\n",
      "Epoch 98/100\n",
      "163/163 [==============================] - 26s 162ms/step - loss: 0.1225 - accuracy: 0.9503 - val_loss: 0.3127 - val_accuracy: 0.8750\n",
      "Epoch 99/100\n",
      "163/163 [==============================] - 26s 162ms/step - loss: 0.1249 - accuracy: 0.9546 - val_loss: 0.2363 - val_accuracy: 0.8750\n",
      "Epoch 100/100\n",
      "163/163 [==============================] - 26s 162ms/step - loss: 0.1249 - accuracy: 0.9530 - val_loss: 0.1132 - val_accuracy: 0.9375\n"
     ]
    }
   ],
   "source": [
    "history = model.fit(data_generator.flow(x_train,y_train),validation_data=data_generator.flow(x_val,y_val),batch_size=16,epochs=100)"
   ]
  },
  {
   "cell_type": "code",
   "execution_count": null,
   "metadata": {
    "id": "eXMz84GPwWW1"
   },
   "outputs": [],
   "source": [
    "#saving the model\n",
    "model.save('./mymodel.h5')"
   ]
  },
  {
   "cell_type": "code",
   "execution_count": null,
   "metadata": {
    "id": "qb5BdyS4zsym"
   },
   "outputs": [],
   "source": [
    "import matplotlib.pyplot as plt\n"
   ]
  },
  {
   "cell_type": "code",
   "execution_count": null,
   "metadata": {
    "colab": {
     "base_uri": "https://localhost:8080/",
     "height": 295
    },
    "id": "krKL0AqjedV5",
    "outputId": "f121402e-6e8a-4c1b-8373-5dbe1f71ce3b"
   },
   "outputs": [
    {
     "data": {
      "image/png": "[encoded data removed]",
      "text/plain": [
       "<Figure size 432x288 with 1 Axes>"
      ]
     },
     "metadata": {
      "needs_background": "light"
     },
     "output_type": "display_data"
    }
   ],
   "source": [
    "#plotting accuracy graph\n",
    "plt.plot(history.history['accuracy'])\n",
    "plt.plot(history.history['val_accuracy'])\n",
    "plt.title('model accuracy')\n",
    "plt.ylabel('accuracy')\n",
    "plt.xlabel('epoch')\n",
    "plt.legend(['train_accuracy', 'val_accuracy'], loc='upper left')\n",
    "plt.show()"
   ]
  },
  {
   "cell_type": "code",
   "execution_count": null,
   "metadata": {
    "colab": {
     "base_uri": "https://localhost:8080/",
     "height": 295
    },
    "id": "xrIREvR-wktW",
    "outputId": "167694f8-cb13-443a-95e6-345e0a4a0790"
   },
   "outputs": [
    {
     "data": {
      "image/png": "[encoded data removed]",
      "text/plain": [
       "<Figure size 432x288 with 1 Axes>"
      ]
     },
     "metadata": {
      "needs_background": "light"
     },
     "output_type": "display_data"
    }
   ],
   "source": [
    "#plotiting loss graph\n",
    "plt.plot(history.history['loss'])\n",
    "plt.plot(history.history['val_loss'])\n",
    "plt.title('model accuracy')\n",
    "plt.ylabel('accuracy')\n",
    "plt.xlabel('epoch')\n",
    "plt.legend(['train_loss', 'val_loss'], loc='upper left')\n",
    "plt.show()"
   ]
  },
  {
   "cell_type": "code",
   "execution_count": null,
   "metadata": {
    "id": "0AmVDiI0wqci"
   },
   "outputs": [],
   "source": [
    "y_pred=model.predict(x_test)"
   ]
  },
  {
   "cell_type": "code",
   "execution_count": null,
   "metadata": {
    "id": "bVnfxOzU-9Di"
   },
   "outputs": [],
   "source": [
    "import numpy as np"
   ]
  },
  {
   "cell_type": "code",
   "execution_count": null,
   "metadata": {
    "id": "_PLo1qs-wuwx"
   },
   "outputs": [],
   "source": [
    "#converting labels from probability to assurity\n",
    "y_pred=np.argmax(y_pred,axis=1)\n",
    "y_test=np.argmax(y_test,axis=1)"
   ]
  },
  {
   "cell_type": "code",
   "execution_count": null,
   "metadata": {
    "colab": {
     "base_uri": "https://localhost:8080/"
    },
    "id": "uvnF7VaE_RYw",
    "outputId": "ec352462-4d5f-4b37-f2e1-ccedf21a0f20"
   },
   "outputs": [
    {
     "data": {
      "text/plain": [
       "624"
      ]
     },
     "execution_count": 69,
     "metadata": {},
     "output_type": "execute_result"
    }
   ],
   "source": [
    "len(x_test)"
   ]
  },
  {
   "cell_type": "code",
   "execution_count": null,
   "metadata": {
    "colab": {
     "base_uri": "https://localhost:8080/",
     "height": 279
    },
    "id": "QV0cGcd6wyzz",
    "outputId": "bc474594-5fde-41e6-a928-6fb06025f68b"
   },
   "outputs": [
    {
     "data": {
      "image/png": "[encoded data removed]",
      "text/plain": [
       "<Figure size 432x288 with 2 Axes>"
      ]
     },
     "metadata": {
      "needs_background": "light"
     },
     "output_type": "display_data"
    }
   ],
   "source": [
    "#confusion matrix\n",
    "from sklearn.metrics import confusion_matrix, ConfusionMatrixDisplay , classification_report\n",
    "labels=['Normal', 'Pneumonia']\n",
    "cm = confusion_matrix(y_pred,y_test)\n",
    "disp = ConfusionMatrixDisplay(confusion_matrix=cm, display_labels=labels)\n",
    "disp.plot(cmap=plt.cm.Blues)\n",
    "plt.show()"
   ]
  },
  {
   "cell_type": "code",
   "execution_count": null,
   "metadata": {
    "colab": {
     "base_uri": "https://localhost:8080/"
    },
    "id": "b31bJm-l_Brk",
    "outputId": "81788c31-9770-43e4-a913-297dc4e0be96"
   },
   "outputs": [
    {
     "name": "stdout",
     "output_type": "stream",
     "text": [
      "              precision    recall  f1-score   support\n",
      "\n",
      "      normal       0.74      0.97      0.83       178\n",
      "   pneumonia       0.98      0.86      0.92       446\n",
      "\n",
      "    accuracy                           0.89       624\n",
      "   macro avg       0.86      0.91      0.88       624\n",
      "weighted avg       0.91      0.89      0.89       624\n",
      "\n"
     ]
    }
   ],
   "source": [
    "#classification report\n",
    "target_names = ['normal','pneumonia']\n",
    "print(classification_report(y_pred,y_test, target_names=target_names))"
   ]
  },
  {
   "cell_type": "code",
   "execution_count": null,
   "metadata": {
    "id": "6rME5x9X_hWm"
   },
   "outputs": [],
   "source": []
  }
 ],
 "metadata": {
  "accelerator": "GPU",
  "colab": {
   "name": "Pneumonia detction base code.ipynb",
   "provenance": []
  },
  "kernelspec": {
   "display_name": "Python 3",
   "language": "python",
   "name": "python3"
  },
  "language_info": {
   "codemirror_mode": {
    "name": "ipython",
    "version": 3
   },
   "file_extension": ".py",
   "mimetype": "text/x-python",
   "name": "python",
   "nbconvert_exporter": "python",
   "pygments_lexer": "ipython3",
   "version": "3.8.8"
  }
 },
 "nbformat": 4,
 "nbformat_minor": 1
}
